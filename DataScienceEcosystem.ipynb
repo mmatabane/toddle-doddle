{
 "cells": [
  {
   "cell_type": "markdown",
   "id": "cefaee1d-a99a-4f66-8ca0-54868993bb11",
   "metadata": {},
   "source": [
    "# Data Science Tools and Ecosystem\n"
   ]
  },
  {
   "cell_type": "markdown",
   "id": "2c1c1f94-de75-40fe-9606-cb41ccbf10a3",
   "metadata": {},
   "source": [
    "#### In this notebook, Data Science Tools and Ecosystem are summarized."
   ]
  },
  {
   "cell_type": "markdown",
   "id": "ab0489ae-d850-411b-bfb6-9dd9eef6a2a9",
   "metadata": {},
   "source": [
    "#### **Objectives**:\n",
    "* Creating markdown cells\n",
    "* List of commonly used libraries for Data Scientists\n",
    "* List popular languages for Data Science\n",
    "* Introduction to arithmetic expression"
   ]
  },
  {
   "cell_type": "markdown",
   "id": "9e3dcbd6-a9cd-401e-aaae-a8187b82a4f0",
   "metadata": {},
   "source": [
    "### Some of the commonly used libraries used by Data Scientists include:\n",
    "1. Pandas\n",
    "2. Numpy\n",
    "3. Seaborn Pandas\n",
    "4. Keras"
   ]
  },
  {
   "cell_type": "markdown",
   "id": "e90b9b83-412d-45f3-854e-9327ca48f83c",
   "metadata": {},
   "source": [
    "###### Some of the popular languages that Data Scientists use are:\n",
    "###### 1. Python\n",
    "###### 2. R\n",
    "###### 3. SQL\n",
    "###### 4. Java"
   ]
  },
  {
   "cell_type": "markdown",
   "id": "d72e59ca-b765-4bad-8dc1-a10981ba5435",
   "metadata": {},
   "source": [
    "### Create a single column table in this cell with the first row containing the header Data Science Tools\n",
    "\n",
    "| Data Science Tools |\n",
    "| -------------|\n",
    "|IBM Waston Studio|\n",
    "|RStudio|\n",
    "|Jupyter Lab|\n"
   ]
  },
  {
   "cell_type": "markdown",
   "id": "7ca1c401-f93a-4e27-ba1f-4cea38342534",
   "metadata": {},
   "source": [
    "### Below are a few examples of evaluating arithmetic expressions in Python\n",
    "1. Addition +\n",
    "2. Subtraction -\n",
    "3. Multiplication *\n",
    "4. Division /\n"
   ]
  },
  {
   "cell_type": "code",
   "execution_count": 12,
   "id": "2bdca36d-7fcd-4a5e-b701-557a624bfa1f",
   "metadata": {},
   "outputs": [
    {
     "data": {
      "text/plain": [
       "17"
      ]
     },
     "execution_count": 12,
     "metadata": {},
     "output_type": "execute_result"
    }
   ],
   "source": [
    "# multiply and add numbers\n",
    "# This a simple arithmetic expression to mutiply then add integers\n",
    "(3*4)+5"
   ]
  },
  {
   "cell_type": "code",
   "execution_count": 14,
   "id": "6866d76a-8fb4-4ef2-9dd4-a9c58bd32641",
   "metadata": {},
   "outputs": [
    {
     "data": {
      "text/plain": [
       "3.3333333333333335"
      ]
     },
     "execution_count": 14,
     "metadata": {},
     "output_type": "execute_result"
    }
   ],
   "source": [
    "#  converts 200 minutes into hours\n",
    "# This will convert 200 minutes to hours by diving by 60\n",
    "200/60"
   ]
  },
  {
   "cell_type": "markdown",
   "id": "00baffb9-b8b4-4429-8822-29d5fccc8d9e",
   "metadata": {},
   "source": [
    "## Author\n",
    "Malefyane"
   ]
  }
 ],
 "metadata": {
  "kernelspec": {
   "display_name": "Python 3 (ipykernel)",
   "language": "python",
   "name": "python3"
  },
  "language_info": {
   "codemirror_mode": {
    "name": "ipython",
    "version": 3
   },
   "file_extension": ".py",
   "mimetype": "text/x-python",
   "name": "python",
   "nbconvert_exporter": "python",
   "pygments_lexer": "ipython3",
   "version": "3.12.4"
  }
 },
 "nbformat": 4,
 "nbformat_minor": 5
}
